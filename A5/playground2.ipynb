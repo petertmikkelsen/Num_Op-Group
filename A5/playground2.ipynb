{
 "cells": [
  {
   "cell_type": "code",
   "execution_count": 5,
   "metadata": {},
   "outputs": [],
   "source": [
    "import matplotlib.pyplot as plt\n",
    "import numpy as np\n",
    "from case_studies import *\n",
    "from scipy.optimize import minimize\n",
    "from case_studies import *\n",
    "\n",
    "def calculate_x0(A,b,x):\n",
    "    return np.array(x - np.linalg.pinv(A)@(A@x + b))\n",
    "\n",
    "def SteepestDescent(x0, f, df, A, dims, c1, rho, tol, maxiter):\n",
    "    x = x0\n",
    "    x_list = []\n",
    "    x_list.append(x)\n",
    "\n",
    "    beta = 1\n",
    "    A_AT = np.dot(A,A.T)\n",
    "    A_ATinv = np.linalg.inv(A_AT)\n",
    "    M = np.identity(dims) - A.T @ A_ATinv @ A\n",
    "    \n",
    "    for i in range(maxiter):          \n",
    "        p = -np.dot(M,df(x))\n",
    "        alpha = backtrack(x, f, df, p, c1, rho, beta)   \n",
    "        x = x + alpha * p\n",
    "        beta = alpha/rho\n",
    "        x_list.append(x)\n",
    "        # check if the norm of the gradient is smaller than the tolerance\n",
    "        if np.linalg.norm(df(x)) < tol:\n",
    "            break\n",
    "    return x_list\n",
    "\n",
    "def backtrack(x, f, df, p_k, c1, rho, beta_k):\n",
    "  alpha = beta_k\n",
    "  while f(x+alpha*p_k) > f(x) + c1 * alpha * p_k @ df(x):\n",
    "    alpha = rho * alpha\n",
    "  return alpha"
   ]
  },
  {
   "cell_type": "code",
   "execution_count": 6,
   "metadata": {},
   "outputs": [],
   "source": [
    "def generate_A(rank,dim):\n",
    "    while True:\n",
    "        A = np.random.randint(low=10, high=100, size=(rank, dim))\n",
    "        if np.linalg.matrix_rank(A) == rank:\n",
    "            return np.reshape(A,(rank,dim))\n",
    "        \n",
    "def generate_b(rank):\n",
    "    return np.random.randint(low=10, high=100,size = rank)\n",
    "\n",
    "\n",
    "def generate_x0(A,b,dim):\n",
    "    x = np.ones(dim)\n",
    "    return calculate_x0(A,b,x)"
   ]
  },
  {
   "cell_type": "code",
   "execution_count": 10,
   "metadata": {},
   "outputs": [
    {
     "name": "stdout",
     "output_type": "stream",
     "text": [
      "0.7987021559758493\n",
      "0.8608063860924869\n"
     ]
    }
   ],
   "source": [
    "dim = 1000\n",
    "\n",
    "ranks = [100,200,300,400]\n",
    "maxiter = 50\n",
    "\n",
    "for rank in ranks:\n",
    "    A = generate_A(rank,dim)\n",
    "    b = generate_b(rank)\n",
    "    x0 = generate_x0(A,b,dim)\n",
    "    \n",
    "    x_list = SteepestDescent(x0, f1, df1, A, dim, 0.01, 0.5, 0.01, maxiter)\n",
    "    \n",
    "    cons = [{\"type\": \"ineq\", \"fun\": lambda x: A @ x - b}]\n",
    "    x_list_scipy = minimize(f1, x0, constraints = cons)\n",
    "\n",
    "    print(np.linalg.norm(x_list[-1]-x_list_scipy.x))\n",
    "    \n"
   ]
  },
  {
   "cell_type": "code",
   "execution_count": null,
   "metadata": {},
   "outputs": [
    {
     "name": "stdout",
     "output_type": "stream",
     "text": [
      "x0:[ 5. -3.]\n"
     ]
    }
   ],
   "source": [
    "A = np.array([[1,2],[0,1]])\n",
    "b = np.array([1,3])\n",
    "maxiter = 100\n",
    "dim = 2\n",
    "x0 = calculate_x0(A, b, np.array([100,-100]))\n",
    "print('x0:' + str(x0))\n",
    "\n",
    "x_list = SteepestDescent(x0, f1, df1, A, dim, 0.1, 0.5, 0.01, maxiter)"
   ]
  },
  {
   "cell_type": "code",
   "execution_count": null,
   "metadata": {},
   "outputs": [],
   "source": [
    "cons = [{\"type\": \"ineq\", \"fun\": lambda x: A @ x - b}]\n",
    "x_list_scipy = minimize(f1, x0, constraints = cons)"
   ]
  },
  {
   "cell_type": "code",
   "execution_count": null,
   "metadata": {},
   "outputs": [
    {
     "data": {
      "text/plain": [
       "array([ 5., -3.])"
      ]
     },
     "execution_count": 117,
     "metadata": {},
     "output_type": "execute_result"
    }
   ],
   "source": [
    "x_list[-1]"
   ]
  },
  {
   "cell_type": "code",
   "execution_count": null,
   "metadata": {},
   "outputs": [
    {
     "data": {
      "text/plain": [
       "array([-3.82314266e-07,  3.00000000e+00])"
      ]
     },
     "execution_count": 118,
     "metadata": {},
     "output_type": "execute_result"
    }
   ],
   "source": [
    "x_list_scipy.x"
   ]
  }
 ],
 "metadata": {
  "kernelspec": {
   "display_name": "Python 3",
   "language": "python",
   "name": "python3"
  },
  "language_info": {
   "codemirror_mode": {
    "name": "ipython",
    "version": 3
   },
   "file_extension": ".py",
   "mimetype": "text/x-python",
   "name": "python",
   "nbconvert_exporter": "python",
   "pygments_lexer": "ipython3",
   "version": "3.7.9"
  },
  "orig_nbformat": 4
 },
 "nbformat": 4,
 "nbformat_minor": 2
}
