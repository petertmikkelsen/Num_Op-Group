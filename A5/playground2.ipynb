{
 "cells": [
  {
   "cell_type": "code",
   "execution_count": null,
   "metadata": {},
   "outputs": [],
   "source": [
    "import matplotlib.pyplot as plt\n",
    "import numpy as np\n",
    "from case_studies import *\n",
    "from scipy.optimize import minimize\n",
    "from case_studies import *\n",
    "\n",
    "import matplotlib as mpl\n",
    "mpl.rcParams.update(mpl.rcParamsDefault)\n",
    "\n",
    "def calculate_x0(A,b,x):\n",
    "    return np.array(x - np.linalg.pinv(A)@(A@x + b))\n",
    "\n",
    "def SteepestDescent(x0, f, df, A, dims, c1, rho, tol, maxiter):\n",
    "    x = x0\n",
    "    x_list = []\n",
    "    x_list.append(x)\n",
    "\n",
    "    norms = []\n",
    "\n",
    "    beta = 1\n",
    "    A_AT = np.dot(A,A.T)\n",
    "    A_ATinv = np.linalg.inv(A_AT)\n",
    "    M = np.identity(dims) - A.T @ A_ATinv @ A\n",
    "    \n",
    "    for i in range(maxiter):          \n",
    "        p = -np.dot(M,df(x))\n",
    "        alpha = backtrack(x, f, df, p, c1, rho, beta)   \n",
    "        x = x + alpha * p\n",
    "        beta = alpha/rho\n",
    "        x_list.append(x)\n",
    "        # check if the norm of the gradient is smaller than the tolerance\n",
    "\n",
    "        norm = np.linalg.norm(df(x)-A.T@(A_ATinv@A@df(x)))\n",
    "        norms.append(norm)\n",
    "        if norm < tol:\n",
    "            break\n",
    "    return x_list,norms\n",
    "\n",
    "def backtrack(x, f, df, p_k, c1, rho, beta_k):\n",
    "  alpha = beta_k\n",
    "  while f(x+alpha*p_k) > f(x) + c1 * alpha * p_k @ df(x):\n",
    "    alpha = rho * alpha\n",
    "  return alpha"
   ]
  },
  {
   "cell_type": "code",
   "execution_count": null,
   "metadata": {},
   "outputs": [],
   "source": [
    "def generate_A(rank,dim):\n",
    "    while True:\n",
    "        A = np.random.randint(low=10, high=100, size=(rank, dim))\n",
    "        if np.linalg.matrix_rank(A) == rank:\n",
    "            return np.reshape(A,(rank,dim))\n",
    "        \n",
    "def generate_b(rank):\n",
    "    return np.random.randint(low=10, high=100,size = rank)\n",
    "\n",
    "\n",
    "def generate_x0(A,b,dim):\n",
    "    x = np.ones(dim)\n",
    "    return calculate_x0(A,b,x)"
   ]
  },
  {
   "cell_type": "code",
   "execution_count": null,
   "metadata": {},
   "outputs": [],
   "source": [
    "dim = 1000\n",
    "\n",
    "#ranks = [20,100,300,500,700,900]\n",
    "ranks = [20,100,400,700,900]\n",
    "maxiter = 100\n",
    "\n",
    "for rank in ranks:\n",
    "    A = generate_A(rank,dim)\n",
    "    b = generate_b(rank)\n",
    "    x0 = generate_x0(A,b,dim)\n",
    "    x_list,norms = SteepestDescent(x0, f1, df1, A, dim, 0.01, 0.5, 0.01, maxiter)\n",
    "    axis = np.linspace(0,len(x_list),len(x_list)-1)\n",
    "    plt.plot(axis,norms, label = str(rank))\n",
    "    \n",
    "\n",
    "plt.legend()\n",
    "plt.title('Steepest Descent Convergence F1')\n",
    "plt.xlabel('Iterations')\n",
    "plt.ylabel(\"Stopping Criterion\") \n",
    "plt.yscale(\"log\") \n",
    "plt.show()\n",
    "\n"
   ]
  },
  {
   "cell_type": "code",
   "execution_count": 235,
   "metadata": {},
   "outputs": [],
   "source": [
    "def is_hessian_definite(H: np.ndarray) -> bool:\n",
    "    return np.all(np.linalg.eigvals(H) > 0)\n",
    "\n",
    "def is_full_rank(A):\n",
    "    return np.linalg.matrix_rank(A) == min(A.shape)\n",
    "\n",
    "def BacktrackingLineSearch(x, d, f, df, method):\n",
    "    alpha = 1\n",
    "    rho = 0.5\n",
    "    c = 0.1\n",
    "    if method == 'SteepestDescent':\n",
    "        alpha = 0.01\n",
    "    while f(x + alpha * d) > f(x) + c * alpha * df(x) @ d:\n",
    "        alpha = rho * alpha\n",
    "    return alpha\n",
    "\n",
    "def Newton(x0, f, df, A, ddf, tol, maxiter, b,m,dim):\n",
    "    x = x0\n",
    "    x_list = []\n",
    "    x_list.append(x)\n",
    "\n",
    "    norms = []\n",
    "    A_ATinv = np.linalg.inv(A@A.T)\n",
    "\n",
    "    for i in range(maxiter):\n",
    "        if is_hessian_definite(ddf(x)):\n",
    "            B = ddf(x)\n",
    "        else:\n",
    "            eig_vals, eig_vecs = np.linalg.eig(ddf(x))\n",
    "            B = 0\n",
    "            for i in range(len(eig_vecs)):\n",
    "                B += eig_vals[i] * np.outer(eig_vecs[i], eig_vecs[i])\n",
    "         \n",
    "        first_term = np.block([[B, A.T], [A, np.zeros((m,m))]])\n",
    "        second_term = np.block([-df(x), b])\n",
    "        solution = np.linalg.solve(first_term, second_term)\n",
    "        p_k = solution[:dim]\n",
    "        alpha = BacktrackingLineSearch(x, p_k, f, df, 'Newton')\n",
    "        x = x + alpha * p_k\n",
    "        x_list.append(x)\n",
    "\n",
    "        norm = np.linalg.norm(df(x)-A.T@(A_ATinv@A@df(x)))\n",
    "        norms.append(norm)\n",
    "         \n",
    "        # check if the norm of the gradient is smaller than the tolerance\n",
    "        if norm < tol:\n",
    "            break\n",
    "    return x_list,norms"
   ]
  },
  {
   "cell_type": "code",
   "execution_count": 240,
   "metadata": {},
   "outputs": [],
   "source": [
    "dim = 1000\n",
    "\n",
    "#ranks = [20,100,300,500,700,900]\n",
    "rank = 900\n",
    "maxiter = 10\n",
    "\n",
    "A = generate_A(rank,dim)\n",
    "b = generate_b(rank)\n",
    "x0 = generate_x0(A,b,dim)\n"
   ]
  },
  {
   "cell_type": "code",
   "execution_count": 241,
   "metadata": {},
   "outputs": [
    {
     "data": {
      "image/png": "[encoded data removed]",
      "text/plain": [
       "<Figure size 640x480 with 1 Axes>"
      ]
     },
     "metadata": {},
     "output_type": "display_data"
    }
   ],
   "source": [
    "x_list,norms = Newton(x0,f5,df5,A,Hf5,0.01,maxiter,b,rank,dim)\n",
    "axis = np.linspace(0,len(x_list),len(x_list)-1)\n",
    "\n",
    "plt.plot(axis,norms, label = str(rank))\n",
    "plt.legend()\n",
    "plt.title('Newton Convergence F5')\n",
    "plt.xlabel('Iterations')\n",
    "plt.ylabel(\"Stopping Criterion\")  \n",
    "plt.show()"
   ]
  }
 ],
 "metadata": {
  "kernelspec": {
   "display_name": "Python 3",
   "language": "python",
   "name": "python3"
  },
  "language_info": {
   "codemirror_mode": {
    "name": "ipython",
    "version": 3
   },
   "file_extension": ".py",
   "mimetype": "text/x-python",
   "name": "python",
   "nbconvert_exporter": "python",
   "pygments_lexer": "ipython3",
   "version": "3.7.9"
  },
  "orig_nbformat": 4
 },
 "nbformat": 4,
 "nbformat_minor": 2
}
