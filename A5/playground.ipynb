{
 "cells": [
  {
   "cell_type": "code",
   "execution_count": null,
   "metadata": {},
   "outputs": [],
   "source": [
    " A = np.array([[3,0],[0,1]])\n",
    " b = np.array([1,3])\n",
    "\n",
    "x0 = calculate_x0(A, b, np.array([100,-100]))\n",
    "print('x0:' + str(x0))\n",
    "\n",
    "x_list = SteepestDescent(x0, functions[n], dfuntions[n], A, dim, 0.1, 0.5, epsilon, maxiter)\n"
   ]
  },
  {
   "cell_type": "code",
   "execution_count": 2,
   "metadata": {},
   "outputs": [],
   "source": [
    "import matplotlib.pyplot as plt\n",
    "import numpy as np\n",
    "from case_studies import *\n",
    "from scipy.optimize import minimize\n",
    "\n",
    "def calculate_x0(A,b,x):\n",
    "    return x - np.linalg.pinv(A)@(A@x + b)\n",
    "\n",
    "def SteepestDescent(x0, f, df, A, dims, c1, rho, tol, maxiter):\n",
    "    x = x0\n",
    "    x_list = []\n",
    "    x_list.append(x)\n",
    "\n",
    "    beta = 1\n",
    "    M = np.identity(dims) - A.T @ np.linalg.inv(A @ A.T) @ A\n",
    "    for i in range(maxiter):\n",
    "        p = -M @ df(x)\n",
    "        alpha = backtrack(x, f, df, p, c1, rho, beta)   \n",
    "        x = x + alpha * p\n",
    "        beta = alpha/rho\n",
    "        x_list.append(x)\n",
    "        # check if the norm of the gradient is smaller than the tolerance\n",
    "        if np.linalg.norm(df(x) - np.array([0,0])) < tol:\n",
    "            break\n",
    "    return x_list\n",
    "\n",
    "def backtrack(x, f, df, p_k, c1, rho, beta_k):\n",
    "  alpha = beta_k\n",
    "  while f(x+alpha*p_k) > f(x) + c1 * alpha * p_k @ df(x):\n",
    "    alpha = rho * alpha\n",
    "  return alpha"
   ]
  }
 ],
 "metadata": {
  "kernelspec": {
   "display_name": "base",
   "language": "python",
   "name": "python3"
  },
  "language_info": {
   "codemirror_mode": {
    "name": "ipython",
    "version": 3
   },
   "file_extension": ".py",
   "mimetype": "text/x-python",
   "name": "python",
   "nbconvert_exporter": "python",
   "pygments_lexer": "ipython3",
   "version": "3.8.3"
  },
  "orig_nbformat": 4,
  "vscode": {
   "interpreter": {
    "hash": "3edaea292c0121a4edf57fb9b1fd8f07f262e12aa8a67f7e3de01891f262632f"
   }
  }
 },
 "nbformat": 4,
 "nbformat_minor": 2
}
